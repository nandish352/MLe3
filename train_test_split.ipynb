import pandas as pd
import numpy as np
df=pd.read_csv('/content/train.csv', engine='python')
df.head()

import pandas as pd
import numpy as np
from sklearn.preprocessing import LabelEncoder
from sklearn.model_selection import train_test_split
from sklearn.preprocessing import StandardScaler
from sklearn.linear_model import LogisticRegression
from sklearn.metrics import accuracy_score

df=pd.read_csv('/content/Iris.csv', engine='python')
df.head()

x=df.drop('Species',axis=1)
y=df['Species']
x_train,x_test,y_train,y_test=train_test_split(x,y,test_size=0.2,random_state=42)

lc=LogisticRegression()
lc.fit(x_train,y_train)

pred=lc.predict(x_test)

print(accuracy_score(y_test,pred))
