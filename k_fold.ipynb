from sklearn.model_selection import KFold
from sklearn.linear_model import LogisticRegression
from sklearn.metrics import accuracy_score
import pandas as pd
import numpy as np

df = pd.read_csv('/content/Iris.csv').drop(columns=["Id"])
X = df.drop(columns=["Species"]).values
y = df["Species"].values

kf = KFold(n_splits=4, shuffle=True, random_state=42)

fold = 1
accuracies = []
for train_index, test_index in kf.split(X):
    X_train, X_test = X[train_index], X[test_index]
    y_train, y_test = y[train_index], y[test_index]

    
    model = LogisticRegression(max_iter=200)
    model.fit(X_train, y_train)

    
    y_pred = model.predict(X_test)
    acc = accuracy_score(y_test, y_pred)
    accuracies.append(acc)

    print(f"Fold {fold} Accuracy: {acc:.3f}")
    fold += 1

print("\nAverage Accuracy:", np.mean(accuracies))
