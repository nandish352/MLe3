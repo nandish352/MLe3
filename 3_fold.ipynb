from sklearn.model_selection import train_test_split
import pandas as pd


df = pd.read_csv('/content/Iris.csv')
df = df.drop(columns=["Id"])

X = df.drop(columns=["Species"]).values
y = df["Species"].values

X_train, X_temp, y_train, y_temp = train_test_split(
    X, y, test_size=0.3, random_state=42, stratify=y)


X_val, X_test, y_val, y_test = train_test_split(
    X_temp, y_temp, test_size=0.5, random_state=42, stratify=y_temp)

print("Train size:", len(X_train))
print("Validation size:", len(X_val))
print("Test size:", len(X_test))

from sklearn.linear_model import LogisticRegression
from sklearn.metrics import accuracy_score

model = LogisticRegression()
model.fit(X_train, y_train)

y_pred = model.predict(X_val)
accuracy = accuracy_score(y_val, y_pred)
print("Validation Accuracy:", accuracy)
y_test_pred=model.predict(X_test)
accuracy=accuracy_score(y_test,y_test_pred)
print("Test Accuracy:",accuracy)
